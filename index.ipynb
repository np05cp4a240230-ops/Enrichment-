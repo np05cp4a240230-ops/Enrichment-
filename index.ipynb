{
 "cells": [
  {
   "cell_type": "markdown",
   "metadata": {
    "id": "4f3hm4-nOjzR"
   },
   "source": [
    "This project implements a Convolutional Neural Network (CNN) for classifying images from the CIFAR-10 dataset into 10 categories. The CNN was trained using PyTorch with three convolutional layers followed by two fully connected layers. The model achieved an accuracy of approximately 75.15% on the dataset, demonstrating the effectiveness of CNNs for image recognition tasks.\n",
    "\n",
    "Image classification is a fundamental task in computer vision with applications in self-driving cars, medical imaging, and security systems. Traditional machine learning approaches often require hand-engineered features, but deep learning methods like CNNs automatically extract relevant features from images.\n",
    "This project focuses on using a CNN to classify CIFAR-10 images, a benchmark dataset containing 60,000 32×32 color images across 10 categories."
   ]
  },
  {
   "cell_type": "code",
   "execution_count": 1,
   "metadata": {
    "executionInfo": {
     "elapsed": 13477,
     "status": "ok",
     "timestamp": 1756374774843,
     "user": {
      "displayName": "Shu Jal",
      "userId": "06634036047512502198"
     },
     "user_tz": -345
    },
    "id": "N-Ue0kctOAAg"
   },
   "outputs": [],
   "source": [
    "#Importing Libraries & Dataset\n",
    "import torch\n",
    "import torch.nn as nn\n",
    "import torch.nn.functional as F\n",
    "import torch.optim as optim\n",
    "import torchvision\n",
    "import torchvision.transforms as transforms\n"
   ]
  },
  {
   "cell_type": "markdown",
   "metadata": {
    "id": "pWsO72EDOrb2"
   },
   "source": [
    "At first, the image data for training is augmented (randomly flipped/randomly cropping) and the image data for testing is converted into a tensor and normalized. then the data for testing is stored/assigned to trainset and so as for the testset also. and these data are further assigned to trainloader/testloader which splits the data into a batch of 64 each.\n",
    "\n",
    "**our main Objectives are**\n",
    "1.   To design and implement a CNN model using PyTorch.\n",
    "2.   To train the model on CIFAR-10 dataset for 10 epochs.\n",
    "3.   To evaluate model performance and measure accuracy.\n",
    "4.   To demonstrate how CNNs can automatically learn visual features."
   ]
  },
  {
   "cell_type": "code",
   "execution_count": 9,
   "metadata": {
    "executionInfo": {
     "elapsed": 1483,
     "status": "ok",
     "timestamp": 1756375102108,
     "user": {
      "displayName": "Shu Jal",
      "userId": "06634036047512502198"
     },
     "user_tz": -345
    },
    "id": "m-RlIj0DOE1I"
   },
   "outputs": [],
   "source": [
    "# Data augmentation for training\n",
    "transform_train = transforms.Compose([\n",
    "    transforms.RandomHorizontalFlip(),  # Random flip\n",
    "    transforms.RandomCrop(32, padding=4),  # Random crop with padding\n",
    "    transforms.ToTensor(),\n",
    "    transforms.Normalize((0.5, 0.5, 0.5), (0.5, 0.5, 0.5))\n",
    "])\n",
    "# Transform: convert image to tensor & normalize (mean, std from CIFAR-10)\n",
    "transform_test = transforms.Compose([\n",
    "    transforms.ToTensor(),\n",
    "    transforms.Normalize((0.5, 0.5, 0.5), (0.5, 0.5, 0.5))\n",
    "])\n",
    "\n",
    "# Load CIFAR-10\n",
    "trainset = torchvision.datasets.CIFAR10(root='./data', train=True,\n",
    "                                        download=True, transform=transform_train)\n",
    "trainloader = torch.utils.data.DataLoader(trainset, batch_size=64, shuffle=True)\n",
    "\n",
    "testset = torchvision.datasets.CIFAR10(root='./data', train=False,\n",
    "                                       download=True, transform=transform_test)\n",
    "testloader = torch.utils.data.DataLoader(testset, batch_size=64, shuffle=False)\n",
    "\n",
    "classes = ('plane', 'car', 'bird', 'cat', 'deer',\n",
    "           'dog', 'frog', 'horse', 'ship', 'truck')\n"
   ]
  },
  {
   "cell_type": "markdown",
   "metadata": {
    "id": "KCQq9_kIOvlV"
   },
   "source": [
    "Dataset used: CIFAR-10 (60,000 images, 10 classes)\n",
    "\n",
    "Model Architecture includes three convolutional layers i.e.\n",
    "\n",
    "    Conv1: 3×3 kernel, 32 filters, ReLU, MaxPooling(2×2).\n",
    "    Conv2: 3×3 kernel, 64 filters, ReLU, MaxPooling(2×2).\n",
    "    Conv3: 3×3 kernel, 128 filters, ReLU, MaxPooling(2×2).\n",
    "\n",
    "which is then followed by two fully connected layers i.e.\n",
    "\n",
    "    FC1: Fully connected layer with 256 neurons.\n",
    "    FC2: Output layer with 10 neurons (one per class)."
   ]
  },
  {
   "cell_type": "code",
   "execution_count": 10,
   "metadata": {
    "executionInfo": {
     "elapsed": 2,
     "status": "ok",
     "timestamp": 1756375102115,
     "user": {
      "displayName": "Shu Jal",
      "userId": "06634036047512502198"
     },
     "user_tz": -345
    },
    "id": "M0Ws5Y9vOUt2"
   },
   "outputs": [],
   "source": [
    "#Defining CNN Model\n",
    "class CIFAR10_CNN(nn.Module):\n",
    "    def __init__(self):\n",
    "        super(CIFAR10_CNN, self).__init__()\n",
    "        # Conv Layer 1: input(3), output(32), kernel=3\n",
    "        self.conv1 = nn.Conv2d(3, 32, 3, padding=1)\n",
    "        # Conv Layer 2: input(32), output(64), kernel=3\n",
    "        self.conv2 = nn.Conv2d(32, 64, 3, padding=1)\n",
    "        # Conv Layer 3: input(64), output(128), kernel=3\n",
    "        self.conv3 = nn.Conv2d(64, 128, 3, padding=1)\n",
    "\n",
    "        self.pool = nn.MaxPool2d(2, 2)  # Pooling Layer (2x2)\n",
    "\n",
    "        # Fully connected layers\n",
    "        self.fc1 = nn.Linear(128 * 4 * 4, 256)  # (after pooling down to 4x4)\n",
    "        self.fc2 = nn.Linear(256, 10)  # 10 classes\n",
    "\n",
    "    def forward(self, x):\n",
    "        # Convolution + ReLU + Pooling\n",
    "        x = self.pool(F.relu(self.conv1(x)))  # -> (32x16x16)\n",
    "        x = self.pool(F.relu(self.conv2(x)))  # -> (64x8x8)\n",
    "        x = self.pool(F.relu(self.conv3(x)))  # -> (128x4x4)\n",
    "\n",
    "        # Flatten\n",
    "        x = x.view(-1, 128 * 4 * 4)\n",
    "\n",
    "        # Fully connected layers\n",
    "        x = F.relu(self.fc1(x))\n",
    "        x = self.fc2(x)  # No softmax here (CrossEntropyLoss handles it)\n",
    "        return x\n"
   ]
  },
  {
   "cell_type": "markdown",
   "metadata": {
    "id": "YPtn5sQLO0YZ"
   },
   "source": [
    "As for the traning of the model, it is done in 10 epochs aand in each epoch is of batch size 64.\n",
    "\n",
    "For the Optimizer, Adam is used with learning rate 0.001.(Adam Optimizer (Adaptive Moment Estimation) is an optimization algorithm that computes adaptive learning rates for each parameter by using:\n",
    "First moment (mean) of gradients → like momentum.\n",
    "Second moment (variance) of gradients → like RMSProp.)\n",
    "This makes Adam efficient, fast, and well-suited for large datasets and deep networks.\n",
    "\n",
    "Loss function CrossEntropyLossis used in this model.CrossEntropyLoss is a commonly used loss function for multi-class classification problems.\n",
    "It measures the difference between the predicted probability distribution (from the model) and the true distribution (the actual class label).\n",
    "\n"
   ]
  },
  {
   "cell_type": "code",
   "execution_count": 11,
   "metadata": {
    "colab": {
     "base_uri": "https://localhost:8080/"
    },
    "executionInfo": {
     "elapsed": 221017,
     "status": "ok",
     "timestamp": 1756375323134,
     "user": {
      "displayName": "Shu Jal",
      "userId": "06634036047512502198"
     },
     "user_tz": -345
    },
    "id": "Kyglvb3NOXyn",
    "outputId": "d5e80ef3-49a0-44a7-cf50-282a28827ee8"
   },
   "outputs": [
    {
     "name": "stdout",
     "output_type": "stream",
     "text": [
      "Epoch 1, Loss: 1.5809\n",
      "Epoch 2, Loss: 1.1930\n",
      "Epoch 3, Loss: 0.9930\n",
      "Epoch 4, Loss: 0.8911\n",
      "Epoch 5, Loss: 0.8150\n",
      "Epoch 6, Loss: 0.7531\n",
      "Epoch 7, Loss: 0.7174\n",
      "Epoch 8, Loss: 0.6797\n",
      "Epoch 9, Loss: 0.6561\n",
      "Epoch 10, Loss: 0.6355\n",
      "Training Finished!\n"
     ]
    }
   ],
   "source": [
    "#Training the Model\n",
    "device = torch.device(\"cuda\" if torch.cuda.is_available() else \"cpu\")\n",
    "model = CIFAR10_CNN().to(device)\n",
    "\n",
    "criterion = nn.CrossEntropyLoss()\n",
    "optimizer = optim.Adam(model.parameters(), lr=0.001)\n",
    "\n",
    "# Training loop\n",
    "for epoch in range(10):  # 10 epochs\n",
    "    running_loss = 0.0\n",
    "    for images, labels in trainloader:\n",
    "        images, labels = images.to(device), labels.to(device)\n",
    "\n",
    "        optimizer.zero_grad()\n",
    "        outputs = model(images)\n",
    "        loss = criterion(outputs, labels)\n",
    "        loss.backward()\n",
    "        optimizer.step()\n",
    "\n",
    "        running_loss += loss.item()\n",
    "    print(f\"Epoch {epoch+1}, Loss: {running_loss/len(trainloader):.4f}\")\n",
    "\n",
    "print(\"Training Finished!\")\n"
   ]
  },
  {
   "cell_type": "markdown",
   "metadata": {
    "id": "4EAKrfZRO3W4"
   },
   "source": [
    "the results of the traning is as follows:\n",
    "\n",
    "    Training Accuracy is approximately at 79%\n",
    "    This model successfully classifies CIFAR-10 images into 10 categories.\n",
    "    Loss decreased steadily across epochs, indicating effective learning."
   ]
  },
  {
   "cell_type": "code",
   "execution_count": 16,
   "metadata": {
    "colab": {
     "base_uri": "https://localhost:8080/"
    },
    "executionInfo": {
     "elapsed": 19346,
     "status": "ok",
     "timestamp": 1756375413037,
     "user": {
      "displayName": "Shu Jal",
      "userId": "06634036047512502198"
     },
     "user_tz": -345
    },
    "id": "EE2Dh5DwObAQ",
    "outputId": "0b2920c4-91cd-4499-b63c-4d4fbfd101a9"
   },
   "outputs": [
    {
     "name": "stdout",
     "output_type": "stream",
     "text": [
      "Accuracy on train set: 79.00%\n"
     ]
    }
   ],
   "source": [
    "#Evaluating the Model\n",
    "correct = 0\n",
    "total = 0\n",
    "model.eval()\n",
    "with torch.no_grad():\n",
    "    for images, labels in trainloader:\n",
    "        images, labels = images.to(device), labels.to(device)\n",
    "        outputs = model(images)\n",
    "        _, predicted = torch.max(outputs.data, 1)\n",
    "        total += labels.size(0)\n",
    "        correct += (predicted == labels).sum().item()\n",
    "\n",
    "print(f\"Accuracy on train set: {100 * correct / total:.2f}%\")\n"
   ]
  },
  {
   "cell_type": "code",
   "execution_count": 17,
   "metadata": {
    "colab": {
     "base_uri": "https://localhost:8080/"
    },
    "executionInfo": {
     "elapsed": 2249,
     "status": "ok",
     "timestamp": 1756375415290,
     "user": {
      "displayName": "Shu Jal",
      "userId": "06634036047512502198"
     },
     "user_tz": -345
    },
    "id": "6IfsvxsyS6Zt",
    "outputId": "ee43d862-2425-4541-a4eb-cd44ececf5b8"
   },
   "outputs": [
    {
     "name": "stdout",
     "output_type": "stream",
     "text": [
      "Accuracy on test set: 78.47%\n"
     ]
    }
   ],
   "source": [
    "#Evaluating the Model\n",
    "correct = 0\n",
    "total = 0\n",
    "model.eval()\n",
    "with torch.no_grad():\n",
    "    for images, labels in testloader:\n",
    "        images, labels = images.to(device), labels.to(device)\n",
    "        outputs = model(images)\n",
    "        _, predicted = torch.max(outputs.data, 1)\n",
    "        total += labels.size(0)\n",
    "        correct += (predicted == labels).sum().item()\n",
    "\n",
    "print(f\"Accuracy on test set: {100 * correct / total:.2f}%\")"
   ]
  },
  {
   "cell_type": "code",
   "execution_count": 22,
   "metadata": {
    "colab": {
     "base_uri": "https://localhost:8080/",
     "height": 159
    },
    "executionInfo": {
     "elapsed": 120,
     "status": "ok",
     "timestamp": 1756375443361,
     "user": {
      "displayName": "Shu Jal",
      "userId": "06634036047512502198"
     },
     "user_tz": -345
    },
    "id": "lCP8q_yeTkFR",
    "outputId": "5b7f8574-d4e2-44a8-b463-ba0f5cefb512"
   },
   "outputs": [
    {
     "data": {
      "image/png": "[encoded data removed]",
      "text/plain": [
       "<Figure size 100x100 with 1 Axes>"
      ]
     },
     "metadata": {},
     "output_type": "display_data"
    },
    {
     "name": "stdout",
     "output_type": "stream",
     "text": [
      "Actual: dog\n"
     ]
    }
   ],
   "source": [
    "import matplotlib.pyplot as plt\n",
    "import numpy as np\n",
    "\n",
    "# Function to un-normalize and show an image\n",
    "def imshow(img):\n",
    "    img = img / 2 + 0.5  # unnormalize (since we used mean=0.5, std=0.5)\n",
    "    npimg = img.numpy()\n",
    "    plt.figure(figsize=(1, 1))\n",
    "    plt.imshow(np.transpose(npimg, (1, 2, 0)))\n",
    "    plt.show()\n",
    "\n",
    "# Get one batch from testloader\n",
    "dataiter = iter(trainloader)\n",
    "images, labels = next(dataiter)\n",
    "\n",
    "# Show the image\n",
    "img = 5\n",
    "imshow(images[img])\n",
    "print(f\"Actual: {classes[labels[img]]}\")"
   ]
  },
  {
   "cell_type": "code",
   "execution_count": 23,
   "metadata": {
    "colab": {
     "base_uri": "https://localhost:8080/"
    },
    "executionInfo": {
     "elapsed": 18,
     "status": "ok",
     "timestamp": 1756375443921,
     "user": {
      "displayName": "Shu Jal",
      "userId": "06634036047512502198"
     },
     "user_tz": -345
    },
    "id": "VRKMq94wOd5t",
    "outputId": "63edde7e-9fad-4c95-f3d4-73e3d64d7ac9"
   },
   "outputs": [
    {
     "name": "stdout",
     "output_type": "stream",
     "text": [
      "Predicted: dog\n"
     ]
    }
   ],
   "source": [
    "# Move model & image to device\n",
    "model.eval()\n",
    "image = images[img].unsqueeze(0).to(device)  # add batch dimension\n",
    "\n",
    "\n",
    "with torch.no_grad():\n",
    "    output = model(image)\n",
    "    _, predicted = torch.max(output, 1)\n",
    "\n",
    "print(f\"Predicted: {classes[predicted.item()]}\")"
   ]
  },
  {
   "cell_type": "markdown",
   "metadata": {
    "id": "N7NlU0XK1Eoa"
   },
   "source": [
    "**Conclusion**\n",
    "\n",
    "The project demonstrates the application of CNNs in image classification. The implemented model achieved 79% accuracy, proving CNNs’ ability to learn hierarchical features directly from raw images."
   ]
  },
  {
   "cell_type": "code",
   "execution_count": 15,
   "metadata": {
    "executionInfo": {
     "elapsed": 3,
     "status": "ok",
     "timestamp": 1756375345204,
     "user": {
      "displayName": "Shu Jal",
      "userId": "06634036047512502198"
     },
     "user_tz": -345
    },
    "id": "CTAMhMVZRVO9"
   },
   "outputs": [],
   "source": []
  }
 ],
 "metadata": {
  "accelerator": "GPU",
  "colab": {
   "authorship_tag": "ABX9TyPLjsZqpW4/ZFPPueET+bok",
   "gpuType": "T4",
   "provenance": []
  },
  "kernelspec": {
   "display_name": "Python 3",
   "name": "python3"
  },
  "language_info": {
   "name": "python"
  }
 },
 "nbformat": 4,
 "nbformat_minor": 0
}
